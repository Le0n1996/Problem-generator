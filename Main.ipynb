{
 "cells": [
  {
   "cell_type": "markdown",
   "id": "736a9048",
   "metadata": {},
   "source": [
    "# The idea of the project is to create DB of math problems for schoolkids.\n",
    "\n",
    "## Reasons:\n",
    "\n",
    "### $\\bullet$ This speeds up the process of learning by preparing solutions and explanations for all school themes.\n",
    "### $\\bullet$ Reduces the time for preparation and allowing to create more data in the same time.\n",
    "\n",
    "### Main difficulties are:\n",
    "\n",
    "#### $\\bullet$ I need to create plenty of problems from school course.\n",
    "#### $\\bullet$ Plenty of time is needed even for one solution to be created.\n",
    "#### $\\bullet$ When created, problems must be selected after a thorough filtration."
   ]
  },
  {
   "cell_type": "raw",
   "id": "83931fc5",
   "metadata": {},
   "source": []
  },
  {
   "cell_type": "markdown",
   "id": "2700519d",
   "metadata": {},
   "source": [
    "## Part 1:"
   ]
  },
  {
   "cell_type": "markdown",
   "id": "ac30aaf6",
   "metadata": {},
   "source": [
    "Problems were actively created in 2020-2021.\n",
    "\n",
    "I am very grateful to those who helped me type the main array of tasks at the start and look for errors in the tasks and their design.\n",
    "\n",
    "Without them, this project would not have had a chance to be realized. In total, over 1800 problems and most of the solutions were written in $\\LaTeX$."
   ]
  },
  {
   "cell_type": "raw",
   "id": "3ea872f5",
   "metadata": {},
   "source": []
  },
  {
   "cell_type": "markdown",
   "id": "3d0f248e",
   "metadata": {},
   "source": [
    "## Part 2:"
   ]
  },
  {
   "cell_type": "markdown",
   "id": "ed2a7b97",
   "metadata": {},
   "source": [
    "###### To implement the selection of several problems from the array, the problems will be stored in the SQL database.\n",
    "But each math problem has 8 parameters and we need a bit of preprocessing...\n",
    "\n",
    "1) Theme of the problem - approximate and doesn't show all the methods used in the problem. Themes from standard classbooks are used as a basis.\n",
    "\n",
    "2) Class (as one of the main ways to filter problem later)\n",
    "\n",
    "3) Topics/methods (the plan is to get an algorithm to quickly select all related problems from base ones to the difficult examples from high grades)\n",
    "\n",
    "4) Difficulty of the current problem (it was hard to differentiate, hence this is a binary easy-difficult feature)\n",
    "\n",
    "5) Condition of the problem itself (including images and tables, if present)\n",
    "\n",
    "6) Expanded solution of the problem\n",
    "\n",
    "7) Answer for the problem\n",
    "\n",
    "8) Hint for the solution (used to give the students a chance to solve more problems)"
   ]
  },
  {
   "cell_type": "raw",
   "id": "9d04da8a",
   "metadata": {},
   "source": []
  },
  {
   "cell_type": "markdown",
   "id": "ff6eb387",
   "metadata": {},
   "source": [
    "## 2.1. Strings manipulation in Python"
   ]
  },
  {
   "cell_type": "code",
   "execution_count": 1,
   "id": "3a32f9e6",
   "metadata": {},
   "outputs": [],
   "source": [
    "import os\n",
    "import re\n",
    "import pandas as pd"
   ]
  },
  {
   "cell_type": "code",
   "execution_count": 2,
   "id": "58ab7ea8",
   "metadata": {},
   "outputs": [],
   "source": [
    "source = open(\"C://Users//novle//AppData//Local//MiKTeX//problems.txt\", \"r\", encoding=\"utf8\") # closed source\n",
    "# set of problems in format \\begin{problem}{}{}{}{}{}{}{}{}\\end{problem} is taken\n",
    "text = source.read() # temporarily import all into one large string\n",
    "recurr_pattern = re.escape('\\n\\end{problem}\\n\\n\\\\begin{problem}') # pattern for preprocessing data before import into sql"
   ]
  },
  {
   "cell_type": "code",
   "execution_count": 3,
   "id": "5c894ff5",
   "metadata": {},
   "outputs": [],
   "source": [
    "problems_list = re.split(recurr_pattern, text) # each element is one problem, but extra cleaning needed:\n",
    "# len(problems_list)\n",
    "problems_list[0] = '{Делители и кратные.}{6.1.1}{6K \\\\textcolor{olive}{\\\\textbf{$\\\\spadesuit$}}}{(лёгкая)}\\n{Сколько существует чисел от $1$ до $41$, которые делятся на $7$, но не делятся на $2$?}\\n{Выпишем те числа, которые делятся на 7: это 7, 14, 21, 28, 35 (следующее число~--- 42~--- уже больше 41). Выберем из них те, которые не делятся на 2, то есть нечётные. Остаются 7, 21, 35: 14 и 28~--- чётные.}\\n{Таких чисел три: это 7, 21 и 35.}{Для начала, а сколько всего чисел, которые делятся на 7?}'\n",
    "problems_list[1806] = '{Вывод некоторых формул с помощью интегрирования.}{11.3.6}{10A}{(лёгкая)}\\n{Радиусы трёх сплошных металлических шариков равны 3, 4 и 5 см соответственно. Эти шарики расплавили, и из получившегося металла отлили новый сплошной шар. Чему будет равен его радиус?}\\n{НаписанноеРешение}\\n{ВерныйОтвет}{Подсказка}'"
   ]
  },
  {
   "cell_type": "code",
   "execution_count": 4,
   "id": "4274c708",
   "metadata": {},
   "outputs": [],
   "source": [
    "def splitter(problem): # reformats problems.txt into one array\n",
    "    countparens = 0 # counts open and closed parenthesis like Latex; precisely countparens = open - closed ones\n",
    "    endpoints = [] # here we will store borders of fields\n",
    "    mas = []\n",
    "    for n in range(len(problem)):\n",
    "        if problem[n] == '}' and problem[n-1] != '\\\\': # new parenthesis and not in a \\} situation -> -1\n",
    "            countparens -= 1\n",
    "        if problem[n] == '{' and problem[n-1] != '\\\\': # new parenthesis and not in a \\{ situation -> +1\n",
    "            countparens += 1\n",
    "        if countparens == 1 and problem[n] == '{' and problem[n-1] != '\\\\':\n",
    "            endpoints.append(n)                        # the outer area; remember the indices which give the left borders\n",
    "        if (countparens == 0) and problem[n] == '}' and problem[n-1] != '\\\\':\n",
    "            endpoints.append(n)                        # the outer area; remember the indices which give the right borders\n",
    "    for i in range(int(len(endpoints)/2)):\n",
    "        mas.append(problem[(endpoints[2*i]+1) : endpoints[2*i+1]])   # write all 8 fields into the array and return it\n",
    "    return mas # result is m = [theme, theme_code, extra_info, difficulty, condition, solution, answer, hint]"
   ]
  },
  {
   "cell_type": "raw",
   "id": "93075bde",
   "metadata": {},
   "source": []
  },
  {
   "cell_type": "markdown",
   "id": "43a03cc1",
   "metadata": {},
   "source": [
    "## 2.2. (example) The unprocessed data and the resulting array"
   ]
  },
  {
   "cell_type": "code",
   "execution_count": null,
   "id": "913885fd",
   "metadata": {},
   "outputs": [],
   "source": []
  },
  {
   "cell_type": "code",
   "execution_count": 5,
   "id": "473bc519",
   "metadata": {},
   "outputs": [
    {
     "name": "stdout",
     "output_type": "stream",
     "text": [
      "{Системы уравнений и неравенств с двумя переменными.}{9.3.3}{Метод подстановки}{(лёгкая)}\n",
      "{Решить систему уравнений $\\displaystyle\\;\\left\\{\n",
      "\\begin{aligned}\n",
      "    \\: (x - 4)(y + 3) &= 0\\\\\n",
      "    \\: 4y - 3x =&\\; 12.\n",
      "\\end{aligned}\\right.$}\n",
      "{$4y - 3x =\\; 12$. Отсюда следует, что $\\displaystyle y=\\frac{12+3x}{4}$. Подставим это выражение в первое уравнение системы $(x - 4)(y + 3) = 0$ и получим $\\displaystyle (x - 4)(\\frac{12+3x}{4} + 3) = 0$.\n",
      "Следовательно, $\\displaystyle(x - 4)(\\frac34 x + 6) = 0 \\;\\Rightarrow\\; x_{1,2} = -8;4$. Тогда $\\displaystyle y_1 = \\frac{12-24}{4} = -3$; $\\displaystyle y_2 = \\frac{12+12}{4} = 6$, значит ответом являются пары чисел $(-8;-3)$ и $(4;6)$.}\n",
      "{Система уравнений имеет два решения: $(-8;-3)$ и $(4;6)$.}{Вырази $y$ из второго уравнения системы и подставь в первое.}\n"
     ]
    }
   ],
   "source": [
    "# unprocessed data example: { and } are used in Latex for \\begin{problem}...\\end{problem} environment\n",
    "print(problems_list[1234])"
   ]
  },
  {
   "cell_type": "code",
   "execution_count": 6,
   "id": "715b8c18",
   "metadata": {},
   "outputs": [
    {
     "name": "stdout",
     "output_type": "stream",
     "text": [
      "Theme:  Системы уравнений и неравенств с двумя переменными. \n",
      "\n",
      "Class:  9.3.3 \n",
      "\n",
      "Methods:  Метод подстановки \n",
      "\n",
      "Difficulty:  (лёгкая) \n",
      "\n",
      "Condition:  Решить систему уравнений $\\displaystyle\\;\\left\\{\n",
      "\\begin{aligned}\n",
      "    \\: (x - 4)(y + 3) &= 0\\\\\n",
      "    \\: 4y - 3x =&\\; 12.\n",
      "\\end{aligned}\\right.$ \n",
      "\n",
      "Solution:  $4y - 3x =\\; 12$. Отсюда следует, что $\\displaystyle y=\\frac{12+3x}{4}$. Подставим это выражение в первое уравнение системы $(x - 4)(y + 3) = 0$ и получим $\\displaystyle (x - 4)(\\frac{12+3x}{4} + 3) = 0$.\n",
      "Следовательно, $\\displaystyle(x - 4)(\\frac34 x + 6) = 0 \\;\\Rightarrow\\; x_{1,2} = -8;4$. Тогда $\\displaystyle y_1 = \\frac{12-24}{4} = -3$; $\\displaystyle y_2 = \\frac{12+12}{4} = 6$, значит ответом являются пары чисел $(-8;-3)$ и $(4;6)$. \n",
      "\n",
      "Answer:  Система уравнений имеет два решения: $(-8;-3)$ и $(4;6)$. \n",
      "\n",
      "Hint:  Вырази $y$ из второго уравнения системы и подставь в первое. \n",
      "\n"
     ]
    }
   ],
   "source": [
    "# resulting array:\n",
    "contents = ['Theme: ', 'Class: ', 'Methods: ', 'Difficulty: ', 'Condition: ', 'Solution: ', 'Answer: ', 'Hint: ']\n",
    "problem_ex = splitter(problems_list[1234])\n",
    "for i in range(8):\n",
    "    print(contents[i], problem_ex[i], '\\n')"
   ]
  },
  {
   "cell_type": "raw",
   "id": "73747d3f",
   "metadata": {},
   "source": []
  },
  {
   "cell_type": "markdown",
   "id": "ebbdf23d",
   "metadata": {},
   "source": [
    "## 2.3. Extra array preprocessing in Python"
   ]
  },
  {
   "cell_type": "code",
   "execution_count": 7,
   "id": "69052d09",
   "metadata": {},
   "outputs": [],
   "source": [
    "#get the list of all themes available (at the moment, source = txt file, later will be changed to sql)\n",
    "def get_unique_themes(problems): \n",
    "    unique = []\n",
    "    for i in range(len(problems)):\n",
    "        if splitter(problems_list[i])[0] in unique:\n",
    "            continue\n",
    "        else:\n",
    "            unique.append(splitter(problems_list[i])[0])\n",
    "    return unique\n",
    "\n",
    "themes = get_unique_themes(problems_list)\n",
    "# len(themes)\n",
    "# themes"
   ]
  },
  {
   "cell_type": "code",
   "execution_count": 8,
   "id": "281c9864",
   "metadata": {},
   "outputs": [],
   "source": [
    "themes6 = themes[0:41]\n",
    "# print(themes6)\n",
    "themes7 = themes[41:75]\n",
    "# print(themes7)\n",
    "themes8 = themes[75:106]\n",
    "# print(themes8)\n",
    "themes9 = themes[106:135]\n",
    "# print(themes9)\n",
    "themes10 = themes[135:155]\n",
    "# print(themes10)\n",
    "themes11 = themes[155:176]\n",
    "# print(themes11)\n",
    "themes_choose = [themes6, themes7, themes8, themes9, themes10, themes11]"
   ]
  },
  {
   "cell_type": "code",
   "execution_count": 9,
   "id": "820081ff",
   "metadata": {},
   "outputs": [],
   "source": [
    "def get_problem_class(problem):\n",
    "    clas = re.split('\\.', problem[1])[0] # returns class (default for the theme and this problem)\n",
    "    return clas\n",
    "\n",
    "def get_problem_diff(problem): # will be stored as binary true/false variable\n",
    "    if problem[3] == '*':\n",
    "        return '1' # difficult one\n",
    "    else:\n",
    "        return '0' # easy one"
   ]
  },
  {
   "cell_type": "code",
   "execution_count": 10,
   "id": "6e594ff8",
   "metadata": {},
   "outputs": [],
   "source": [
    "total = [] # rebuilding and reformatting from scratch to [grade, theme, diff, condition, solution, answer, hint]\n",
    "for i in range(len(problems_list)):\n",
    "    problem = splitter(problems_list[i])\n",
    "    d = get_problem_diff(problem)\n",
    "    res = [get_problem_class(problem)] # start with class, adding all into the array\n",
    "    res.append(problem[0])             # add theme\n",
    "    res.append(d)                      # add difficulty\n",
    "    res += problem[4:8]                # add condition-solution-answer-hint\n",
    "    total.append(res)                  # ... and go for the next problem"
   ]
  },
  {
   "cell_type": "raw",
   "id": "c67c3b6d",
   "metadata": {},
   "source": []
  },
  {
   "cell_type": "markdown",
   "id": "44c8abbd",
   "metadata": {},
   "source": [
    "## 3. SQL - database creation"
   ]
  },
  {
   "cell_type": "code",
   "execution_count": 11,
   "id": "832b6766",
   "metadata": {},
   "outputs": [],
   "source": [
    "try:\n",
    "    pswd_file = open(\"C://Users//novle//Desktop//pswd.txt\", \"r\", encoding = \"utf8\") # closed password\n",
    "    pswd = pswd_file.read() # temporarily import all into one large string\n",
    "except FileNotFoundError:\n",
    "    print('You have no password, sorry...')"
   ]
  },
  {
   "cell_type": "code",
   "execution_count": 12,
   "id": "94620a51",
   "metadata": {
    "scrolled": true
   },
   "outputs": [],
   "source": [
    "import mysql.connector # import to sql\n",
    "\n",
    "mydb = mysql.connector.connect(\n",
    "    host = \"127.0.0.1\",\n",
    "    user = \"root\",\n",
    "    password = pswd,\n",
    "    database = \"allproblems\"\n",
    ")"
   ]
  },
  {
   "cell_type": "code",
   "execution_count": 29,
   "id": "88f39cbe",
   "metadata": {},
   "outputs": [
    {
     "name": "stdout",
     "output_type": "stream",
     "text": [
      "1807 problems was inserted.\n"
     ]
    }
   ],
   "source": [
    "#mycursor = mydb.cursor(buffered=True) # use only if we need to clean everything stored!\n",
    "#sql = \"DROP TABLE prob2\"\n",
    "#mycursor.execute(sql)\n",
    "#mydb.commit()\n",
    "\n",
    "#mycursor = mydb.cursor() # create database\n",
    "#sql = \"CREATE TABLE prob2 (idproblem INT AUTO_INCREMENT PRIMARY KEY, grade INT, theme VARCHAR(100), diff INT, prcon VARCHAR(2000), solution VARCHAR(8500), answer VARCHAR(1500), hint VARCHAR(500))\"\n",
    "#mycursor.execute(sql)\n",
    "#mydb.commit()\n",
    "\n",
    "#mycursor = mydb.cursor(buffered = True) # import data into database\n",
    "#sql = \"INSERT INTO prob2 (grade, theme, diff, prcon, solution, answer, hint) VALUES (%s, %s, %s, %s, %s, %s, %s)\"\n",
    "#mycursor.executemany(sql, total)\n",
    "#mydb.commit()\n",
    "\n",
    "#print(mycursor.rowcount, \"problems was inserted.\")"
   ]
  },
  {
   "cell_type": "markdown",
   "id": "bba994a1",
   "metadata": {},
   "source": [
    "#### Future realisation of topics in SQL"
   ]
  },
  {
   "cell_type": "code",
   "execution_count": 30,
   "id": "db2a7211",
   "metadata": {},
   "outputs": [],
   "source": [
    "# CAREFUL!\n",
    "# if ever need to erase and restart again the same way, uncomment\n",
    "# this will delete all existing tables!!\n",
    "\n",
    "#mycursor = mydb.cursor(buffered=True)\n",
    "#sql = \"DROP TABLE topics\"\n",
    "#mycursor.execute(sql)\n",
    "#mydb.commit()\n",
    "\n",
    "#mycursor = mydb.cursor(buffered=True)\n",
    "#sql = \"DROP TABLE problem_topic\"\n",
    "#mycursor.execute(sql)\n",
    "#mydb.commit()\n",
    "\n",
    "#mycursor = mydb.cursor()\n",
    "#sql = \"CREATE TABLE topics (idtopic INT AUTO_INCREMENT PRIMARY KEY, topicname VARCHAR(150))\"\n",
    "#mycursor.execute(sql)\n",
    "#mydb.commit()\n",
    "\n",
    "#mycursor = mydb.cursor()\n",
    "#sql = \"CREATE TABLE problem_topic (idproblem INT, idtopic INT, CONSTRAINT prob_top PRIMARY KEY (idproblem, idtopic), CONSTRAINT con_problem FOREIGN KEY (idproblem) REFERENCES problems (idproblem), CONSTRAINT cor_topic FOREIGN KEY (idtopic) REFERENCES topics (idtopic))\"\n",
    "#mycursor.execute(sql)\n",
    "#mydb.commit()\n",
    "\n",
    "#mycursor = mydb.cursor()\n",
    "#mycursor.execute(\"SELECT * FROM problems\")\n",
    "#myresult = mycursor.fetchall()"
   ]
  },
  {
   "cell_type": "raw",
   "id": "3c92d5cc",
   "metadata": {},
   "source": []
  },
  {
   "cell_type": "markdown",
   "id": "f469bb7c",
   "metadata": {},
   "source": [
    "## 4. Exporting from SQL straight to pdf"
   ]
  },
  {
   "cell_type": "code",
   "execution_count": 13,
   "id": "671536f4",
   "metadata": {},
   "outputs": [],
   "source": [
    "# 1. select from DB by theme number\n",
    "def problem_selector(pr_class, theme_num):\n",
    "    mycursor = mydb.cursor(buffered=True)\n",
    "    themes = themes_choose[pr_class-6]\n",
    "    strreq = \"SELECT * FROM prob2 WHERE theme = \" + str(\"\\'\" + themes[theme_num] + \"\\'\")\n",
    "    mycursor.execute(strreq)\n",
    "    problemset = mycursor.fetchall()\n",
    "    mydb.commit()\n",
    "    return problemset\n",
    "\n",
    "# mode is 0 for conditions only, 1 for hints, 2 for answers + solutions\n",
    "def latex_file_creator(theme = '', mode = 0, name = 'default', path = 'C://Users//novle//AppData//Local//MiKTeX//'):\n",
    "    preamb = open(\"C://Users//novle//AppData//Local//MiKTeX//prgen.txt\", \"r\", encoding = \"utf8\") # using this as preamble\n",
    "    f_res = open(path + name + \".tex\", \"a\", encoding = \"utf8\") # create file with chosen name (default.txt by default)\n",
    "    initial = \"\\n\\n\" + r\"\\begin{document}\" + \"\\n\" + \"\\large\" + \"\\n\" + \"\\mode{\" + str(mode) + \"}\" + \"\\n\\n\" + r\"\\today\" + \"\\n\"\n",
    "    title = r\"\\begin{titlegen}{\" + str(mode) + \"}{\" + theme + \"}\\end{titlegen}\\n\\n\" # with chosen theme\n",
    "    text = preamb.read() + initial + title # combine strings \n",
    "    f_res.write(text)                      # write into latex file\n",
    "    preamb.close()\n",
    "    f_res.close()\n",
    "\n",
    "# Takes list of problems from db and adds them into file\n",
    "def latex_problems_adder(problemset, name = 'default', path = 'C://Users//novle//AppData//Local//MiKTeX//'):\n",
    "    f_res = open(path + name + \".tex\", \"a\", encoding = \"utf8\") # with chosen name (default.txt by default)\n",
    "    for elem in problemset:\n",
    "        problem = r\"\\begin{problem}{\" + elem[2] + \"}{\" + str(elem[1]) + \"}{\" + str(elem[0]) + \"}{\" + str(elem[3]) + \"}\\n{\" + elem[4] + \"}\\n{\" + elem[5] + \"}\\n{\" + elem[6] + \"}{\" + elem[7] + \"}\\end{problem}\\n\\n\"\n",
    "        f_res.write(problem)\n",
    "    f_res.write(\"\\end{document}\")\n",
    "    f_res.close()\n",
    "\n",
    "# produces pdf in any folder, default 'C://Users//novle//AppData//Local//MiKTeX//default.txt'\n",
    "def latex_file_executor(name = 'default', path = 'C://Users//novle//AppData//Local//MiKTeX//'):\n",
    "    os.chdir(path) # set path\n",
    "    cmd = 'pdflatex ' + name + '.tex' # printing to pdf using pdflatex\n",
    "    os.system(cmd)\n",
    "\n",
    "# creates file, fills it, produces pdf\n",
    "def universal_creator(problemset, theme = '', mode = 0, name = 'default', path = 'C://Users//novle//AppData//Local//MiKTeX//'):\n",
    "    latex_file_creator(theme, mode, name, path)\n",
    "    latex_problems_adder(problemset, name, path)\n",
    "    latex_file_executor(name, path)"
   ]
  },
  {
   "cell_type": "code",
   "execution_count": 33,
   "id": "76f898d5",
   "metadata": {},
   "outputs": [],
   "source": [
    "#def problem_selector2(pr_class, theme_num): # select by theme number (from tex)\n",
    "#    mycursor = mydb.cursor(buffered=True)\n",
    "#    themes = themes_choose[pr_class-6]\n",
    "#    strreq = \"SELECT * FROM problems WHERE theme = \" + str(\"\\'\" + themes[theme_num] + \"\\'\")\n",
    "#    mycursor.execute(strreq)\n",
    "#    problemset = mycursor.fetchall()\n",
    "#    mydb.commit()\n",
    "#    return problemset"
   ]
  },
  {
   "cell_type": "markdown",
   "id": "1bde8d22",
   "metadata": {},
   "source": [
    "### 4.1. Example of extracting:"
   ]
  },
  {
   "cell_type": "code",
   "execution_count": 14,
   "id": "4cb5c341",
   "metadata": {},
   "outputs": [
    {
     "name": "stdout",
     "output_type": "stream",
     "text": [
      "Id:  819 \n",
      "\n",
      "Class:  8 \n",
      "\n",
      "Theme:  График квадратного корня. \n",
      "\n",
      "Difficulty:  0 \n",
      "\n",
      "Condition:  Нарисовать график функции $y = 1 - 2\\sqrt{x + 3}$. \n",
      "\n",
      "Solution:  \\textcolor{Green}{\\textbf{Ограничения:}} Так как подкоренное выражение должно быть неотрицательным, стоит отметить что $\\, x + 3 \\geqslant 0 \\;\\Rightarrow\\; x \\geqslant -3 $.\\smallskip\\\\\n",
      "Чтобы нарисовать данный график, надо понять, что этот график будет являться графиком функции $y = \\sqrt{x}$, но с несколькими изменениями:\\\\\n",
      "\\begin{minipage}{\\linewidth}\n",
      "    \\begin{minipage}{0.44\\linewidth}\n",
      "    1) Функция будет не возрастающей, а убывающей, так как перед корнем стоит знак минуса, поэтому график функции $y = \\sqrt{x}$ отражается относительно оси абсцисс.\\smallskip\\\\\n",
      "    2) График функции будет сдвинут на $3$ влево по оси $x$ (так как под корнем стоит $x + 3$).\n",
      "    \\end{minipage}\n",
      "    \\hspace{0.05\\linewidth}\n",
      "    \\begin{minipage}{0.5\\linewidth}\n",
      "    \\begin{figure}[H] \\includegraphics[width=\\linewidth]{819_graph1.png} \n",
      "    \\end{figure}\n",
      "    \\end{minipage}\n",
      "\\end{minipage}\n",
      "\\begin{minipage}{\\linewidth}\n",
      "    \\begin{minipage}{0.44\\linewidth}\n",
      "    3) График функции будет растянут по вертикали вдвое по сравнению с графиком функции $y = -\\sqrt{x + 3}$, так как перед корнем стоит коэффициент $2$.\\smallskip\\\\\n",
      "    4) График функции будет сдвинут по сравнению с предыдущей на $1$ вверх по оси $y$ (так как перед корнем добавлена константа $1$).\\smallskip\\\\\n",
      "    Как следствие, началом графика, из которого <<выходит>> корень, будет точка $(-3;\\, 1)$.\n",
      "    \\end{minipage}\n",
      "    \\hspace{0.05\\linewidth}\n",
      "    \\begin{minipage}{0.5\\linewidth}\n",
      "    \\begin{figure}[H] \\includegraphics[width=\\linewidth]{819_graph2.png} \n",
      "    \\end{figure}\n",
      "    \\end{minipage}\n",
      "\\end{minipage} \n",
      "\n",
      "Answer:  Смотри рисунки справа. \n",
      "\n",
      "Hint:  Анализируй функцию по частям, строй её график с помощью поочерёдных преобразований графика стандартной функции $y = \\sqrt{x}$. \n",
      "\n"
     ]
    }
   ],
   "source": [
    "contents = ['Id: ', 'Class: ', 'Theme: ', 'Difficulty: ', 'Condition: ', 'Solution: ', 'Answer: ', 'Hint: ']\n",
    "clas = 8\n",
    "theme = 6\n",
    "selected_task = problem_selector(clas, theme)[0]\n",
    "for i in range(8):\n",
    "    print(contents[i], selected_task[i], '\\n')    "
   ]
  },
  {
   "cell_type": "raw",
   "id": "21aa4a28",
   "metadata": {},
   "source": []
  },
  {
   "cell_type": "markdown",
   "id": "09b9556a",
   "metadata": {},
   "source": [
    "## 4.2. Extracting to pdf"
   ]
  },
  {
   "cell_type": "code",
   "execution_count": 15,
   "id": "16dc8502",
   "metadata": {},
   "outputs": [],
   "source": [
    "# simply generates three separate problemset pdfs (only conditions; +hints; +answers and solutions)\n",
    "def triple_creator(problemset, path = 'C://Users//novle//AppData//Local//MiKTeX//'):\n",
    "    print('Введите название темы, которая вас интересует:')\n",
    "    theme = input()\n",
    "    print('Insert FileName (eng only, this would be the name in the file system):')\n",
    "    common_name = input()\n",
    "    for mode in range(3):\n",
    "        name = common_name # produces name of file: example\n",
    "        if mode == 1:\n",
    "            name += '_with_hints' # produces name of file: example_with_hints\n",
    "        if mode == 2:\n",
    "            name += '_with_solutions' # produces name of file: example_with_solutions\n",
    "        universal_creator(problemset, theme, mode, name, path) # create all three one by one"
   ]
  },
  {
   "cell_type": "code",
   "execution_count": 16,
   "id": "2a11b24e",
   "metadata": {},
   "outputs": [],
   "source": [
    "def smart_list(path = 'C://Users//novle//AppData//Local//MiKTeX//'): # asks questions iteratively to determine the result\n",
    "    print('На какой класс готовим листок? (6-11)')\n",
    "    go = True\n",
    "    while go:\n",
    "        try:\n",
    "            pr_class = int(input())\n",
    "            break\n",
    "        except ValueError:\n",
    "            print('You need to enter class as a number (6, 7, 8, 9, 10, 11 are accepted)')\n",
    "    index0 = []\n",
    "    while go:\n",
    "        try:\n",
    "            for i in range(len(themes_choose[pr_class-6])):\n",
    "                index0.append(i+1)\n",
    "            break\n",
    "        except IndexError:\n",
    "                print('You need to enter class as a number (6, 7, 8, 9, 10, 11 are accepted)')\n",
    "                pr_class = int(input())\n",
    "    res_var = pd.Series(data = themes_choose[pr_class-6], index = index0)\n",
    "    print('... \\nВот список всех доступных тем для выбора: \\n', res_var, '\\n')\n",
    "    problemset = []\n",
    "    while go:\n",
    "        print('Введите число - номер темы, по которому нужно составить листок (0 to stop)')\n",
    "        try:\n",
    "            theme_num = int(input()) - 1 # choose number of interesting theme (-1 as it is choosen from the list which starts from 1) !!!!\n",
    "            if theme_num != -1:\n",
    "                problemset += problem_selector(pr_class, theme_num)\n",
    "            else:\n",
    "                go = False\n",
    "        except ValueError:\n",
    "            print('Введите номер существующей темы, а не название!')\n",
    "            pass\n",
    "        except IndexError:\n",
    "            print('Темы с указанным номером не найдено. Введите номер существующей темы!')\n",
    "            pass\n",
    "    triple_creator(problemset, path) # produces problemset in three different modes separately\n",
    "    print('Файл может быть найден по адресу ' + path)"
   ]
  },
  {
   "cell_type": "markdown",
   "id": "359e7298",
   "metadata": {},
   "source": [
    "### Realization:"
   ]
  },
  {
   "cell_type": "code",
   "execution_count": 17,
   "id": "b1821028",
   "metadata": {},
   "outputs": [
    {
     "name": "stdout",
     "output_type": "stream",
     "text": [
      "На какой класс готовим листок? (6-11)\n",
      "11\n",
      "... \n",
      "Вот список всех доступных тем для выбора: \n",
      " 1     Комплексные числа. Их свойства, арифметические...\n",
      "2                                Комплексная плоскость.\n",
      "3     Тригонометрическая форма записи комплексного ч...\n",
      "4     Формула Муавра. Возведение комплексного числа ...\n",
      "5           Квадратные уравнения для комплексных чисел.\n",
      "6     Извлечение кубического корня из комплексного ч...\n",
      "7     Извлечение корня произвольной степени из компл...\n",
      "8     Решение кубических уравнений. Формула Кардано,...\n",
      "9          Показательная функция, её свойства и график.\n",
      "10                             Показательные уравнения.\n",
      "11                           Показательные неравенства.\n",
      "12                                 Свойства логарифмов.\n",
      "13                           Логарифмические уравнения.\n",
      "14                         Логарифмические неравенства.\n",
      "15       Взятие производной для экспонент и логарифмов.\n",
      "16                        Правила поиска первообразной.\n",
      "17                             Неопределённый интеграл.\n",
      "18     Определённый интеграл. Формула Ньютона-Лейбница.\n",
      "19       Несобственный интеграл первого и второго рода.\n",
      "20                                 Вычисление площадей.\n",
      "21     Вывод некоторых формул с помощью интегрирования.\n",
      "dtype: object \n",
      "\n",
      "Введите число - номер темы, по которому нужно составить листок (0 to stop)\n",
      "20\n",
      "Введите число - номер темы, по которому нужно составить листок (0 to stop)\n",
      "0\n",
      "Введите название темы, которая вас интересует:\n",
      "Вычисление площадей при помощи определённого интеграла\n",
      "Insert FileName (eng only, this would be the name in the file system):\n",
      "AreasUnderCurves\n",
      "Файл может быть найден по адресу C://Users//novle//AppData//Local//MiKTeX//\n"
     ]
    }
   ],
   "source": [
    "smart_list()\n",
    "# As an example:\n",
    "# Class - 11\n",
    "# Themes: 20 (then 0)\n",
    "# Name: Calculating areas using definite integral\n",
    "# AUC.tex"
   ]
  },
  {
   "cell_type": "raw",
   "id": "69bcf5f4",
   "metadata": {},
   "source": []
  },
  {
   "cell_type": "code",
   "execution_count": null,
   "id": "dac3a4c7",
   "metadata": {},
   "outputs": [],
   "source": []
  }
 ],
 "metadata": {
  "kernelspec": {
   "display_name": "Python 3 (ipykernel)",
   "language": "python",
   "name": "python3"
  },
  "language_info": {
   "codemirror_mode": {
    "name": "ipython",
    "version": 3
   },
   "file_extension": ".py",
   "mimetype": "text/x-python",
   "name": "python",
   "nbconvert_exporter": "python",
   "pygments_lexer": "ipython3",
   "version": "3.7.3"
  }
 },
 "nbformat": 4,
 "nbformat_minor": 5
}
